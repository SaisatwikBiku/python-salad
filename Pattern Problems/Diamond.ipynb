{
 "cells": [
  {
   "cell_type": "code",
   "execution_count": 7,
   "id": "0cfc3b6b",
   "metadata": {},
   "outputs": [
    {
     "name": "stdout",
     "output_type": "stream",
     "text": [
      "          \n",
      "        * \n",
      "      * * * \n",
      "    * * * * * \n",
      "  * * * * * * * \n",
      "* * * * * * * * * \n",
      "  * * * * * * * \n",
      "    * * * * * \n",
      "      * * * \n",
      "        * \n"
     ]
    }
   ],
   "source": [
    "n=5\n",
    "for i in range(n):\n",
    "    for j in range(i, n):\n",
    "        print(\" \", end=' ')\n",
    "    for k in range(i-1):\n",
    "        print(\"*\", end=' ')\n",
    "    for l in range(i):\n",
    "        print(\"*\", end=' ')\n",
    "    print()    \n",
    "\n",
    "for i in range(n):\n",
    "    for j in range(i):\n",
    "        print(\" \", end=' ')\n",
    "    for k in range(i, n-1):\n",
    "        print(\"*\", end=' ')\n",
    "    for l in range(i, n):\n",
    "        print(\"*\", end=' ')\n",
    "    print()    "
   ]
  },
  {
   "cell_type": "code",
   "execution_count": null,
   "id": "d9d25cf8",
   "metadata": {},
   "outputs": [],
   "source": []
  }
 ],
 "metadata": {
  "kernelspec": {
   "display_name": "Python 3 (ipykernel)",
   "language": "python",
   "name": "python3"
  },
  "language_info": {
   "codemirror_mode": {
    "name": "ipython",
    "version": 3
   },
   "file_extension": ".py",
   "mimetype": "text/x-python",
   "name": "python",
   "nbconvert_exporter": "python",
   "pygments_lexer": "ipython3",
   "version": "3.11.3"
  }
 },
 "nbformat": 4,
 "nbformat_minor": 5
}
