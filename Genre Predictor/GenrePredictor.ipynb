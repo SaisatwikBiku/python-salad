{
 "cells": [
  {
   "cell_type": "code",
   "execution_count": 1,
   "id": "a884e3cb",
   "metadata": {},
   "outputs": [
    {
     "name": "stdout",
     "output_type": "stream",
     "text": [
      "Prediction:  ['HipHop']\n",
      "Accuracy:  1.0\n"
     ]
    }
   ],
   "source": [
    "import pandas as pd\n",
    "from sklearn.tree import DecisionTreeClassifier\n",
    "from sklearn.model_selection import train_test_split\n",
    "from sklearn.metrics import accuracy_score\n",
    "\n",
    "musicData = pd.read_csv('music.csv')\n",
    "X = musicData.drop(columns = ['genre'])\n",
    "Y = musicData['genre']\n",
    "X_train, X_test, Y_train, Y_test = train_test_split(X.values, Y, test_size = 0.2)\n",
    "\n",
    "engine = DecisionTreeClassifier()\n",
    "engine.fit(X_train, Y_train)\n",
    "predictions = engine.predict(X_test)\n",
    "\n",
    "accuracy = accuracy_score(Y_test, predictions) \n",
    "\n",
    "engine.fit(X.values, Y)\n",
    "result = engine.predict([[20, 1]])\n",
    "\n",
    "print(\"Prediction: \", result)\n",
    "print(\"Accuracy: \", accuracy)"
   ]
  },
  {
   "cell_type": "code",
   "execution_count": null,
   "id": "dd4072ff",
   "metadata": {},
   "outputs": [],
   "source": []
  },
  {
   "cell_type": "code",
   "execution_count": null,
   "id": "80fa8fb7",
   "metadata": {},
   "outputs": [],
   "source": []
  }
 ],
 "metadata": {
  "kernelspec": {
   "display_name": "Python 3 (ipykernel)",
   "language": "python",
   "name": "python3"
  },
  "language_info": {
   "codemirror_mode": {
    "name": "ipython",
    "version": 3
   },
   "file_extension": ".py",
   "mimetype": "text/x-python",
   "name": "python",
   "nbconvert_exporter": "python",
   "pygments_lexer": "ipython3",
   "version": "3.10.9"
  }
 },
 "nbformat": 4,
 "nbformat_minor": 5
}
