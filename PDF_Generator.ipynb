{
 "cells": [
  {
   "cell_type": "code",
   "execution_count": 2,
   "id": "57bbb022",
   "metadata": {},
   "outputs": [
    {
     "name": "stdout",
     "output_type": "stream",
     "text": [
      "Collecting reportlab\n",
      "  Downloading reportlab-4.0.7-py3-none-any.whl.metadata (1.3 kB)\n",
      "Requirement already satisfied: pillow>=9.0.0 in ./anaconda3/lib/python3.11/site-packages (from reportlab) (9.4.0)\n",
      "Downloading reportlab-4.0.7-py3-none-any.whl (1.9 MB)\n",
      "\u001b[2K   \u001b[90m━━━━━━━━━━━━━━━━━━━━━━━━━━━━━━━━━━━━━━━━\u001b[0m \u001b[32m1.9/1.9 MB\u001b[0m \u001b[31m6.5 MB/s\u001b[0m eta \u001b[36m0:00:00\u001b[0ma \u001b[36m0:00:01\u001b[0m\n",
      "\u001b[?25hInstalling collected packages: reportlab\n",
      "Successfully installed reportlab-4.0.7\n",
      "Note: you may need to restart the kernel to use updated packages.\n"
     ]
    }
   ],
   "source": [
    "pip install reportlab"
   ]
  },
  {
   "cell_type": "code",
   "execution_count": 1,
   "id": "33ec1c4b",
   "metadata": {},
   "outputs": [],
   "source": [
    "from reportlab.lib.pagesizes import letter\n",
    "from reportlab.pdfgen import canvas"
   ]
  },
  {
   "cell_type": "code",
   "execution_count": 2,
   "id": "dbb7f737",
   "metadata": {},
   "outputs": [],
   "source": [
    "def generate_pdf(opfile, content):\n",
    "    c = canvas.Canvas(opfile, pagesize=letter)\n",
    "    \n",
    "    c.setFont(\"Helvetica\", 16)\n",
    "    \n",
    "    text_obj = c.beginText(100, 700)\n",
    "    text_obj.textLine(content)\n",
    "    c.drawText(text_obj)\n",
    "    c.save()"
   ]
  },
  {
   "cell_type": "code",
   "execution_count": 3,
   "id": "ace4a3fc",
   "metadata": {},
   "outputs": [
    {
     "name": "stdout",
     "output_type": "stream",
     "text": [
      "Enter the filename for Output: test.pdf\n",
      "Enter the Content: Sai Ram\n",
      "PDF generated successfully with file name test.pdf\n"
     ]
    }
   ],
   "source": [
    "filename = input(\"Enter the filename for Output: \")\n",
    "content = input(\"Enter the Content: \")\n",
    "\n",
    "generate_pdf(filename, content)\n",
    "print(f\"PDF generated successfully with file name {filename}\")"
   ]
  },
  {
   "cell_type": "code",
   "execution_count": null,
   "id": "1e8188d1",
   "metadata": {},
   "outputs": [],
   "source": []
  }
 ],
 "metadata": {
  "kernelspec": {
   "display_name": "Python 3 (ipykernel)",
   "language": "python",
   "name": "python3"
  },
  "language_info": {
   "codemirror_mode": {
    "name": "ipython",
    "version": 3
   },
   "file_extension": ".py",
   "mimetype": "text/x-python",
   "name": "python",
   "nbconvert_exporter": "python",
   "pygments_lexer": "ipython3",
   "version": "3.11.3"
  }
 },
 "nbformat": 4,
 "nbformat_minor": 5
}
