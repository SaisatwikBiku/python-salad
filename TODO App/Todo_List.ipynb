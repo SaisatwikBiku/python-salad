{
 "cells": [
  {
   "cell_type": "code",
   "execution_count": 1,
   "id": "6064391e",
   "metadata": {},
   "outputs": [],
   "source": [
    "import mysql.connector"
   ]
  },
  {
   "cell_type": "code",
   "execution_count": 2,
   "id": "40dc1029",
   "metadata": {},
   "outputs": [],
   "source": [
    "db = mysql.connector.connect(\n",
    "    host='localhost',\n",
    "    user='root',\n",
    "    password='S@twik12',\n",
    "    database='todo_list'\n",
    ")"
   ]
  },
  {
   "cell_type": "code",
   "execution_count": 8,
   "id": "8f08c4d6",
   "metadata": {},
   "outputs": [],
   "source": [
    "def view_tasks():\n",
    "    cursor = db.cursor()\n",
    "    sql = \"SELECT * FROM tasks\"\n",
    "    cursor.execute(sql)\n",
    "    tasks = cursor.fetchall()\n",
    "    for task in tasks:\n",
    "        print(f\"Task ID: {task[0]}, Task Name: {task[1]}, Description: {task[2]}, Completed: {'Yes' if task[3] else 'No'}\")"
   ]
  },
  {
   "cell_type": "code",
   "execution_count": 9,
   "id": "970fd6a8",
   "metadata": {},
   "outputs": [],
   "source": [
    "def mark_completed(task_id):\n",
    "    cursor = db.cursor()\n",
    "    sql = \"UPDATE tasks SET is_completed = 1 WHERE id = %s\"\n",
    "    val = (task_id,)\n",
    "    cursor.execute(sql, val)\n",
    "    db.commit()\n",
    "    print(\"Task marked as completed!\")"
   ]
  },
  {
   "cell_type": "code",
   "execution_count": 10,
   "id": "b6a7aceb",
   "metadata": {},
   "outputs": [],
   "source": [
    "def update_task(task_id, task_name, description):\n",
    "    cursor = db.cursor()\n",
    "    sql = \"UPDATE tasks SET task_name = %s, description = %s WHERE id = %s\"\n",
    "    val = (task_name, description, task_id)\n",
    "    cursor.execute(sql, val)\n",
    "    db.commit()\n",
    "    print(\"Task details updated successfully!\")"
   ]
  },
  {
   "cell_type": "code",
   "execution_count": 11,
   "id": "04deb49e",
   "metadata": {},
   "outputs": [],
   "source": [
    "def delete_task(task_id):\n",
    "    cursor = db.cursor()\n",
    "    sql = \"DELETE FROM tasks WHERE id = %s\"\n",
    "    val = (task_id,)\n",
    "    cursor.execute(sql, val)\n",
    "    db.commit()\n",
    "    print(\"Task deleted successfully!\")"
   ]
  },
  {
   "cell_type": "code",
   "execution_count": null,
   "id": "73f9e2e4",
   "metadata": {},
   "outputs": [
    {
     "name": "stdout",
     "output_type": "stream",
     "text": [
      "\n",
      "--- To-Do List ---\n",
      "1. Add Task\n",
      "2. View Tasks\n",
      "3. Mark Task as Completed\n",
      "4. Update Task Details\n",
      "5. Delete Task\n",
      "6. Exit\n",
      "Enter your choice: 2\n",
      "\n",
      "--- Tasks ---\n",
      "Task ID: 1, Task Name: Buy groceries, Description: Milk, eggs, bread, Completed: No\n",
      "Task ID: 2, Task Name: Complete SQL Project, Description: Make TO-DO Application, Completed: No\n",
      "\n",
      "--- To-Do List ---\n",
      "1. Add Task\n",
      "2. View Tasks\n",
      "3. Mark Task as Completed\n",
      "4. Update Task Details\n",
      "5. Delete Task\n",
      "6. Exit\n",
      "Enter your choice: 4\n",
      "Enter the task ID to update: 2\n",
      "Enter the new task name: Complete MySQL Project\n",
      "Enter the new task description: Make ToDo Application\n",
      "Task details updated successfully!\n",
      "\n",
      "--- To-Do List ---\n",
      "1. Add Task\n",
      "2. View Tasks\n",
      "3. Mark Task as Completed\n",
      "4. Update Task Details\n",
      "5. Delete Task\n",
      "6. Exit\n"
     ]
    }
   ],
   "source": [
    "if __name__ == \"__main__\":\n",
    "    while True:\n",
    "        print(\"\\n--- To-Do List ---\")\n",
    "        print(\"1. Add Task\")\n",
    "        print(\"2. View Tasks\")\n",
    "        print(\"3. Mark Task as Completed\")\n",
    "        print(\"4. Update Task Details\")\n",
    "        print(\"5. Delete Task\")\n",
    "        print(\"6. Exit\")\n",
    "\n",
    "        choice = int(input(\"Enter your choice: \"))\n",
    "\n",
    "        if choice == 1:\n",
    "            task_name = input(\"Enter the task name: \")\n",
    "            description = input(\"Enter the task description: \")\n",
    "            add_task(task_name, description)\n",
    "\n",
    "        elif choice == 2:\n",
    "            print(\"\\n--- Tasks ---\")\n",
    "            view_tasks()\n",
    "\n",
    "        elif choice == 3:\n",
    "            task_id = int(input(\"Enter the task ID to mark as completed: \"))\n",
    "            mark_completed(task_id)\n",
    "\n",
    "        elif choice == 4:\n",
    "            task_id = int(input(\"Enter the task ID to update: \"))\n",
    "            task_name = input(\"Enter the new task name: \")\n",
    "            description = input(\"Enter the new task description: \")\n",
    "            update_task(task_id, task_name, description)\n",
    "\n",
    "        elif choice == 5:\n",
    "            task_id = int(input(\"Enter the task ID to delete: \"))\n",
    "            delete_task(task_id)\n",
    "\n",
    "        elif choice == 6:\n",
    "            print(\"Goodbye!\")\n",
    "            break\n",
    "\n",
    "        else:\n",
    "            print(\"Invalid choice. Please try again.\")"
   ]
  },
  {
   "cell_type": "code",
   "execution_count": null,
   "id": "47baebf0",
   "metadata": {},
   "outputs": [],
   "source": []
  }
 ],
 "metadata": {
  "kernelspec": {
   "display_name": "Python 3 (ipykernel)",
   "language": "python",
   "name": "python3"
  },
  "language_info": {
   "codemirror_mode": {
    "name": "ipython",
    "version": 3
   },
   "file_extension": ".py",
   "mimetype": "text/x-python",
   "name": "python",
   "nbconvert_exporter": "python",
   "pygments_lexer": "ipython3",
   "version": "3.11.3"
  }
 },
 "nbformat": 4,
 "nbformat_minor": 5
}
