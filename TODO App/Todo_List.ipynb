{
 "cells": [
  {
   "cell_type": "code",
   "execution_count": 1,
   "id": "6064391e",
   "metadata": {},
   "outputs": [],
   "source": [
    "import mysql.connector"
   ]
  },
  {
   "cell_type": "code",
   "execution_count": 2,
   "id": "40dc1029",
   "metadata": {},
   "outputs": [],
   "source": [
    "db = mysql.connector.connect(\n",
    "    host='localhost',\n",
    "    user='root',\n",
    "    password='S@twik12',\n",
    "    database='todo_list'\n",
    ")"
   ]
  },
  {
   "cell_type": "code",
   "execution_count": 3,
   "id": "f3b2aeb5",
   "metadata": {},
   "outputs": [],
   "source": [
    "def add_task(task_name, description):\n",
    "    cursor = db.cursor()\n",
    "    sql = \"INSERT INTO tasks (task_name, description) VALUES (%s, %s)\"\n",
    "    val = (task_name, description)\n",
    "    cursor.execute(sql, val)\n",
    "    db.commit()\n",
    "    print(\"Task added successfully!\")"
   ]
  },
  {
   "cell_type": "code",
   "execution_count": 4,
   "id": "8f08c4d6",
   "metadata": {},
   "outputs": [],
   "source": [
    "def view_tasks():\n",
    "    cursor = db.cursor()\n",
    "    sql = \"SELECT * FROM tasks\"\n",
    "    cursor.execute(sql)\n",
    "    tasks = cursor.fetchall()\n",
    "    if (tasks):\n",
    "        for task in tasks:\n",
    "            print(f\"Task ID: {task[0]}, Task Name: {task[1]}, Description: {task[2]}, Completed: {'Yes' if task[3] else 'No'}\")\n",
    "    else:\n",
    "        print(\"No Tasks in the DataBase\")"
   ]
  },
  {
   "cell_type": "code",
   "execution_count": 5,
   "id": "970fd6a8",
   "metadata": {},
   "outputs": [],
   "source": [
    "def mark_completed(task_id):\n",
    "    cursor = db.cursor()\n",
    "    sql = \"UPDATE tasks SET is_completed = 1 WHERE id = %s\"\n",
    "    val = (task_id,)\n",
    "    cursor.execute(sql, val)\n",
    "    db.commit()\n",
    "    print(\"Task marked as completed!\")"
   ]
  },
  {
   "cell_type": "code",
   "execution_count": 6,
   "id": "b6a7aceb",
   "metadata": {},
   "outputs": [],
   "source": [
    "def update_task(task_id, task_name, description):\n",
    "    cursor = db.cursor()\n",
    "    sql = \"UPDATE tasks SET task_name = %s, description = %s WHERE id = %s\"\n",
    "    val = (task_name, description, task_id)\n",
    "    cursor.execute(sql, val)\n",
    "    db.commit()\n",
    "    print(\"Task details updated successfully!\")"
   ]
  },
  {
   "cell_type": "code",
   "execution_count": 7,
   "id": "04deb49e",
   "metadata": {},
   "outputs": [],
   "source": [
    "def delete_task(task_id):\n",
    "    cursor = db.cursor()\n",
    "    sql = \"DELETE FROM tasks WHERE id = %s\"\n",
    "    val = (task_id,)\n",
    "    cursor.execute(sql, val)\n",
    "    db.commit()\n",
    "    print(\"Task deleted successfully!\")"
   ]
  },
  {
   "cell_type": "code",
   "execution_count": 8,
   "id": "73f9e2e4",
   "metadata": {
    "scrolled": false
   },
   "outputs": [
    {
     "name": "stdout",
     "output_type": "stream",
     "text": [
      "\n",
      "--- To-Do List ---\n",
      "1. Add Task\n",
      "2. View Tasks\n",
      "3. Mark Task as Completed\n",
      "4. Update Task Details\n",
      "5. Delete Task\n",
      "6. Exit\n",
      "Enter your choice: 2\n",
      "\n",
      "--- Tasks ---\n",
      "Task ID: 3, Task Name: Test ToDo Application, Description: Test and Debug to fix issues in the Application, Completed: No\n",
      "Task ID: 4, Task Name: Update GitHub, Description: Publish new changes of the ToDo App in the Repository, Completed: No\n",
      "\n",
      "--- To-Do List ---\n",
      "1. Add Task\n",
      "2. View Tasks\n",
      "3. Mark Task as Completed\n",
      "4. Update Task Details\n",
      "5. Delete Task\n",
      "6. Exit\n",
      "Enter your choice: 3\n",
      "Enter the task ID to mark as completed: 3\n",
      "Task marked as completed!\n",
      "\n",
      "--- To-Do List ---\n",
      "1. Add Task\n",
      "2. View Tasks\n",
      "3. Mark Task as Completed\n",
      "4. Update Task Details\n",
      "5. Delete Task\n",
      "6. Exit\n",
      "Enter your choice: 1\n",
      "Enter the task name: Publish blog\n",
      "Enter the task description: Publish blog on Medium to demonstrate the project\n",
      "Task added successfully!\n",
      "\n",
      "--- To-Do List ---\n",
      "1. Add Task\n",
      "2. View Tasks\n",
      "3. Mark Task as Completed\n",
      "4. Update Task Details\n",
      "5. Delete Task\n",
      "6. Exit\n",
      "Enter your choice: 2\n",
      "\n",
      "--- Tasks ---\n",
      "Task ID: 3, Task Name: Test ToDo Application, Description: Test and Debug to fix issues in the Application, Completed: Yes\n",
      "Task ID: 4, Task Name: Update GitHub, Description: Publish new changes of the ToDo App in the Repository, Completed: No\n",
      "Task ID: 5, Task Name: Publish blog, Description: Publish blog on Medium to demonstrate the project, Completed: No\n",
      "\n",
      "--- To-Do List ---\n",
      "1. Add Task\n",
      "2. View Tasks\n",
      "3. Mark Task as Completed\n",
      "4. Update Task Details\n",
      "5. Delete Task\n",
      "6. Exit\n",
      "Enter your choice: 6\n",
      "Goodbye!\n"
     ]
    }
   ],
   "source": [
    "if __name__ == \"__main__\":\n",
    "    while True:\n",
    "        print(\"\\n--- To-Do List ---\")\n",
    "        print(\"1. Add Task\")\n",
    "        print(\"2. View Tasks\")\n",
    "        print(\"3. Mark Task as Completed\")\n",
    "        print(\"4. Update Task Details\")\n",
    "        print(\"5. Delete Task\")\n",
    "        print(\"6. Exit\")\n",
    "\n",
    "        choice = int(input(\"Enter your choice: \"))\n",
    "\n",
    "        if choice == 1:\n",
    "            task_name = input(\"Enter the task name: \")\n",
    "            description = input(\"Enter the task description: \")\n",
    "            add_task(task_name, description)\n",
    "\n",
    "        elif choice == 2:\n",
    "            print(\"\\n--- Tasks ---\")\n",
    "            view_tasks()\n",
    "\n",
    "        elif choice == 3:\n",
    "            task_id = int(input(\"Enter the task ID to mark as completed: \"))\n",
    "            mark_completed(task_id)\n",
    "\n",
    "        elif choice == 4:\n",
    "            task_id = int(input(\"Enter the task ID to update: \"))\n",
    "            task_name = input(\"Enter the new task name: \")\n",
    "            description = input(\"Enter the new task description: \")\n",
    "            update_task(task_id, task_name, description)\n",
    "\n",
    "        elif choice == 5:\n",
    "            task_id = int(input(\"Enter the task ID to delete: \"))\n",
    "            delete_task(task_id)\n",
    "\n",
    "        elif choice == 6:\n",
    "            print(\"Goodbye!\")\n",
    "            break\n",
    "\n",
    "        else:\n",
    "            print(\"Invalid choice. Please try again.\")"
   ]
  }
 ],
 "metadata": {
  "kernelspec": {
   "display_name": "Python 3 (ipykernel)",
   "language": "python",
   "name": "python3"
  },
  "language_info": {
   "codemirror_mode": {
    "name": "ipython",
    "version": 3
   },
   "file_extension": ".py",
   "mimetype": "text/x-python",
   "name": "python",
   "nbconvert_exporter": "python",
   "pygments_lexer": "ipython3",
   "version": "3.11.3"
  }
 },
 "nbformat": 4,
 "nbformat_minor": 5
}
